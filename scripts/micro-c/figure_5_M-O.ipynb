{
 "cells": [
  {
   "cell_type": "markdown",
   "metadata": {},
   "source": [
    "## Set up Notebook:"
   ]
  },
  {
   "cell_type": "code",
   "execution_count": 17,
   "metadata": {},
   "outputs": [],
   "source": [
    "from coolbox.api import *\n",
    "import pandas as pd\n",
    "import os\n",
    "\n",
    "directory = '/private/groups/russelllab/jodie/wolbachia_induced_DE/micro-c/plots/'\n",
    "\n",
    "module_colors = {\n",
    "    'module_1':'#1F77B4',   # blue\n",
    "    'module_2':'#FF7F0E',   # orange\n",
    "    'module_3':'#2CA02C',   # green\n",
    "    'module_4':'#D62728',   # red\n",
    "    'module_5':'#9467BD',   # purple\n",
    "    'module_6':'#8C564B',   # brown\n",
    "    'module_7':'#E377C2',   # pink\n",
    "    'module_8':'#7F7F7F',   # grey\n",
    "    'module_9':'#BCBD22',   # olive\n",
    "    'module_10':'#2AFF2A',  # light green\n",
    "    'module_11':'#17BECF',  # blue\n",
    "    'module_12':'#1F77B4'   # bluee\n",
    "}\n",
    "\n",
    "\n",
    "# Color map to match final figures\n",
    "color_dict={\n",
    "    'JW18DOX':'#87de87', # green\n",
    "    'JW18wMel':'#00aa44',  # dark green\n",
    "    'S2DOX':'#ffb380', # orange\n",
    "    'S2wMel':'#d45500' # dark orange\n",
    "}\n",
    "\n",
    "from matplotlib.colors import LinearSegmentedColormap\n",
    "\n",
    "# give a list of color (color gradient)\n",
    "gradient_jw18 = ['#FFFFFF','#87DE87','#3BA94B','#097C16','#004D00']\n",
    "\n",
    "jw18_cmap = LinearSegmentedColormap.from_list('interaction', gradient_jw18)\n",
    "jw18_cmap.set_bad(\"white\")\n",
    "jw18_cmap.set_under(\"white\")\n",
    "\n",
    "JW18_DOX = color_dict['JW18DOX']\n",
    "JW18_wMel = color_dict['JW18wMel']\n",
    "\n",
    "clr1 = \"/private/groups/russelllab/jodie/wolbachia_induced_DE/micro-c/processed_files/JW18-DOX.matrix_1kb.mcool\"\n",
    "clr2 = \"/private/groups/russelllab/jodie/wolbachia_induced_DE/micro-c/processed_files/JW18-wMel.matrix_1kb.mcool\"\n",
    "\n",
    "# Path to the new BigWig files\n",
    "bw_dox = \"/private/groups/russelllab/jodie/wolbachia_induced_DE/micro-c/mapped/tracks/JW18-DOX_1000.bw\"\n",
    "bw_wmel = \"/private/groups/russelllab/jodie/wolbachia_induced_DE/micro-c/mapped/tracks/JW18-wMel_1000.bw\"\n",
    "\n",
    "# Additional Tracks\n",
    "gtf_all = '/private/groups/russelllab/jodie/reference_genomes/micro-c/dmel-all-r6.46.sorted.uniq.gtf'\n",
    "gtf_significant = '/private/groups/russelllab/jodie/wolbachia_induced_DE/wolbachia_induced_differentiation/scripts/micro-c/WGCNA_bigwig/filtered_genes.gtf'\n",
    "loops1 = \"/private/groups/russelllab/jodie/wolbachia_induced_DE/micro-c/mapped/tracks/JW18-DOX_JW18-wMel.diffloop1\"\n",
    "loops2 = \"/private/groups/russelllab/jodie/wolbachia_induced_DE/micro-c/mapped/tracks/JW18-DOX_JW18-wMel.diffloop2\"\n",
    "rnaseq_cov = '/private/groups/russelllab/jodie/wolbachia_induced_DE/micro-c/mapped/tracks/JW18wMel221117_vs_DOX.diff.coverage.bw'\n",
    "microc_cov = '/private/groups/russelllab/jodie/wolbachia_induced_DE/micro-c/mapped/tracks/JW18-wMel_vs_DOX.diff.coverage.bw'\n",
    "mappability = '/private/groups/russelllab/jodie/wolbachia_induced_DE/micro-c/mapped/tracks/dmel_6_genmap_e0_k150_final.bw'\n",
    "\n",
    "#WGCNA Modules:\n",
    "module_1 = '/private/groups/russelllab/jodie/wolbachia_induced_DE/wolbachia_induced_differentiation/scripts/micro-c/WGCNA_bigwig/bigwigs/module_1.bw'\n",
    "module_2 = '/private/groups/russelllab/jodie/wolbachia_induced_DE/wolbachia_induced_differentiation/scripts/micro-c/WGCNA_bigwig/bigwigs/module_2.bw'\n",
    "module_3 = '/private/groups/russelllab/jodie/wolbachia_induced_DE/wolbachia_induced_differentiation/scripts/micro-c/WGCNA_bigwig/bigwigs/module_3.bw'\n",
    "module_4 = '/private/groups/russelllab/jodie/wolbachia_induced_DE/wolbachia_induced_differentiation/scripts/micro-c/WGCNA_bigwig/bigwigs/module_4.bw'\n",
    "module_5 = '/private/groups/russelllab/jodie/wolbachia_induced_DE/wolbachia_induced_differentiation/scripts/micro-c/WGCNA_bigwig/bigwigs/module_5.bw'\n",
    "module_6 = '/private/groups/russelllab/jodie/wolbachia_induced_DE/wolbachia_induced_differentiation/scripts/micro-c/WGCNA_bigwig/bigwigs/module_6.bw'  \n",
    "module_7 = '/private/groups/russelllab/jodie/wolbachia_induced_DE/wolbachia_induced_differentiation/scripts/micro-c/WGCNA_bigwig/bigwigs/module_7.bw'\n",
    "module_8 = '/private/groups/russelllab/jodie/wolbachia_induced_DE/wolbachia_induced_differentiation/scripts/micro-c/WGCNA_bigwig/bigwigs/module_8.bw'\n",
    "module_9 = '/private/groups/russelllab/jodie/wolbachia_induced_DE/wolbachia_induced_differentiation/scripts/micro-c/WGCNA_bigwig/bigwigs/module_9.bw'\n",
    "module_10 = '/private/groups/russelllab/jodie/wolbachia_induced_DE/wolbachia_induced_differentiation/scripts/micro-c/WGCNA_bigwig/bigwigs/module_10.bw'\n",
    "module_11 = '/private/groups/russelllab/jodie/wolbachia_induced_DE/wolbachia_induced_differentiation/scripts/micro-c/WGCNA_bigwig/bigwigs/module_11.bw'\n",
    "module_12 = '/private/groups/russelllab/jodie/wolbachia_induced_DE/wolbachia_induced_differentiation/scripts/micro-c/WGCNA_bigwig/bigwigs/module_12.bw'\n",
    "\n",
    "gene_data_script = '/private/groups/russelllab/jodie/wolbachia_induced_DE/wolbachia_induced_differentiation/scripts/micro-c/extract_gene_data.py'\n",
    "\n",
    "c1, c2 = clr1, clr2\n",
    "\n",
    "with MinValue(-9), MaxValue(-1):\n",
    "    cool1 = Cool(clr1)\n",
    "    cool2 = Cool(clr2)"
   ]
  },
  {
   "cell_type": "markdown",
   "metadata": {},
   "source": [
    "# Set up browser"
   ]
  },
  {
   "cell_type": "code",
   "execution_count": 18,
   "metadata": {},
   "outputs": [],
   "source": [
    "frame = ChromName() + XAxis() + \\\n",
    "    HiCMat(clr1, style='window',  cmap=jw18_cmap) +\\\n",
    "    TADCoverage(loops1, border_only=True, alpha=1, color='#FF5A9E', border_color='#FF5A9E') +\\\n",
    "    HiCMat(clr2, style='window',  cmap=jw18_cmap)+\\\n",
    "    TADCoverage(loops2, border_only=True, alpha=1, color='#FF5A9E', border_color='#FF5A9E') +\\\n",
    "    BigWig(module_2, data_range_style=False, style=\"scatter\", alpha=0.5, size=80) + Color(module_colors['module_2']) + Title(\"2\") + TrackHeight(0.6) + MinValue(1.9) + MaxValue(2.1) + \\\n",
    "    BigWig(module_3, data_range_style=False, style=\"scatter\", alpha=0.5, size=80) + Color(module_colors['module_3']) + Title(\"3\") + TrackHeight(0.6) + MinValue(2.9) + MaxValue(3.1) + \\\n",
    "    BigWig(module_4, data_range_style=False, style=\"scatter\", alpha=0.5, size=80) + Color(module_colors['module_4']) + Title(\"4\") + TrackHeight(0.6) + MinValue(3.9) + MaxValue(4.1) + \\\n",
    "    BigWig(module_5, data_range_style=False, style=\"scatter\", alpha=0.5, size=80) + Color(module_colors['module_5']) + Title(\"5\") + TrackHeight(0.6) + MinValue(4.9) + MaxValue(5.1) + \\\n",
    "    BigWig(module_7, data_range_style=False, style=\"scatter\", alpha=0.5, size=80) + Color(module_colors['module_7']) + Title(\"7\") + TrackHeight(0.6) + MinValue(6.9) + MaxValue(7.1) + \\\n",
    "    BigWig(module_9, data_range_style=False, style=\"scatter\", alpha=0.5, size=80) + Color(module_colors['module_9']) + Title(\"9\") + TrackHeight(0.6) + MinValue(8.9) + MaxValue(9.1) + \\\n",
    "    BigWig(module_10, data_range_style=False, style=\"scatter\", alpha=0.5, size=80) + Color(module_colors['module_10']) + Title(\"10\") + TrackHeight(0.6) + MinValue(9.9) + MaxValue(10.1) + \\\n",
    "    BigWig(module_11, data_range_style=False, style=\"scatter\", alpha=0.5, size=80) + Color(module_colors['module_11']) + Title(\"11\") + TrackHeight(0.6) + MinValue(10.9) + MaxValue(11.1) + \\\n",
    "    BigWig(module_12, data_range_style=False, style=\"scatter\", alpha=0.5, size=80) + Color(module_colors['module_12']) + Title(\"12\") + TrackHeight(0.6) + MinValue(11.9) + MaxValue(12.1) + \\\n",
    "    BigWig(bw_wmel, style=\"line\") + Color(JW18_wMel) +  MinValue(0) + MaxValue(1) + Title(\"P(Contact):\\nJW18 wMel\") + \\\n",
    "    BigWig(bw_dox, style=\"line\") + Color(JW18_DOX) + MinValue(0) + MaxValue(1) + Title(\"JW18 uninf.\") + \\\n",
    "    TrackHeight(2)  + Spacer(height=.5) +\\\n",
    "    BigWig(rnaseq_cov) + Color(JW18_wMel) + MinValue(0) + MaxValue(500) + Title(\"RNA-seq coverage\\nJW18 wMel enrichment\\nover JW18 uninf.\") + TrackHeight(1) + \\\n",
    "    BigWig(rnaseq_cov) + Color(JW18_DOX) + MinValue(-500) + MaxValue(0) + TrackHeight(1) + \\\n",
    "    Spacer(height=.5) + \\\n",
    "    BigWig(microc_cov) + Color(JW18_wMel) + MinValue(0) + MaxValue(1000) + Title(\"Micro-C coverage\\nJW18 wMel enrichment\\nover JW18 uninf.\") + TrackHeight(1) + \\\n",
    "    BigWig(microc_cov) + Color(JW18_DOX) + MinValue(-1000) + MaxValue(0) + TrackHeight(1) + \\\n",
    "    Spacer(height=.5) + \\\n",
    "    BigWig(mappability) + MinValue(0) + MaxValue(1) + Title(\"Mappability\") + TrackHeight(1) + Color('#5353F6') + \\\n",
    "    XAxis()\n",
    "\n",
    "frame *= Feature(depth_ratio=0.35)\n"
   ]
  },
  {
   "cell_type": "markdown",
   "metadata": {},
   "source": [
    "# Chromosome X:16000000-20000000"
   ]
  },
  {
   "cell_type": "code",
   "execution_count": 19,
   "metadata": {},
   "outputs": [
    {
     "name": "stderr",
     "output_type": "stream",
     "text": [
      "[W::hts_idx_load3] The index file is older than the data file: /private/groups/russelllab/jodie/wolbachia_induced_DE/micro-c/mapped/tracks/JW18-DOX_JW18-wMel.diffloop1.bgz.tbi\n",
      "[W::hts_idx_load3] The index file is older than the data file: /private/groups/russelllab/jodie/wolbachia_induced_DE/micro-c/mapped/tracks/JW18-DOX_JW18-wMel.diffloop2.bgz.tbi\n",
      "[W::hts_idx_load3] The index file is older than the data file: /private/groups/russelllab/jodie/wolbachia_induced_DE/micro-c/mapped/tracks/JW18-DOX_JW18-wMel.diffloop1.bgz.tbi\n",
      "[W::hts_idx_load3] The index file is older than the data file: /private/groups/russelllab/jodie/wolbachia_induced_DE/micro-c/mapped/tracks/JW18-DOX_JW18-wMel.diffloop2.bgz.tbi\n"
     ]
    },
    {
     "data": {
      "application/vnd.jupyter.widget-view+json": {
       "model_id": "7d13a301e927417db82c7208367659ba",
       "version_major": 2,
       "version_minor": 0
      },
      "text/plain": [
       "VBox(children=(VBox(children=(HBox(children=(Dropdown(index=5, options=('2L', '2R', '3L', '3R', '4', 'X', 'Y')…"
      ]
     },
     "metadata": {},
     "output_type": "display_data"
    },
    {
     "name": "stderr",
     "output_type": "stream",
     "text": [
      "[W::hts_idx_load3] The index file is older than the data file: /private/groups/russelllab/jodie/wolbachia_induced_DE/micro-c/mapped/tracks/JW18-DOX_JW18-wMel.diffloop1.bgz.tbi\n",
      "[W::hts_idx_load3] The index file is older than the data file: /private/groups/russelllab/jodie/wolbachia_induced_DE/micro-c/mapped/tracks/JW18-DOX_JW18-wMel.diffloop2.bgz.tbi\n"
     ]
    },
    {
     "name": "stdout",
     "output_type": "stream",
     "text": [
      "File saved to: /private/groups/russelllab/jodie/wolbachia_induced_DE/micro-c/plots//JW18-DOX_JW18-wMel_X:16000000-20000000.svg\n",
      "Processing region X:16000000-20000000\n",
      "WGCNA file preview:\n",
      "  flybaseCG  module                DE_condition          padj\n",
      "0   CG10007       5  celltypeJW18.infectionwMel  3.116288e-35\n",
      "1   CG10042       5  celltypeJW18.infectionwMel  4.088917e-43\n",
      "2   CG10084       5               wMel_vs_uninf  3.905842e-89\n",
      "3   CG10123       5  celltypeJW18.infectionwMel  5.898989e-45\n",
      "4   CG10144       5  celltypeJW18.infectionwMel  1.955539e-10\n",
      "Loaded 7906 original gene IDs from WGCNA data\n",
      "Loaded WGCNA data with columns: ['flybaseCG', 'module', 'DE_condition', 'padj']\n",
      "Looking for NC_004354.4 in GTF file (mapped from X)\n",
      "GTF stats: Found 523 genes on chromosome X in the selected region 16000000-20000000\n",
      "Found WGCNA matches for 271 out of 523 genes\n",
      "Saved gene data to /private/groups/russelllab/jodie/wolbachia_induced_DE/micro-c/plots//JW18-DOX_JW18-wMel_X:16000000-20000000_gene_data.tsv\n",
      "Total genes extracted: 523\n"
     ]
    },
    {
     "data": {
      "text/plain": [
       "0"
      ]
     },
     "execution_count": 19,
     "metadata": {},
     "output_type": "execute_result"
    }
   ],
   "source": [
    "\n",
    "comparison = 'JW18-DOX_JW18-wMel' \n",
    "chromosome_of_interest = \"X\"\n",
    "start_bp = 16000000\n",
    "end_bp = 20000000\n",
    "TEST_RANGE = f'{chromosome_of_interest}:{start_bp}-{end_bp}'\n",
    "resolution = 1000\n",
    "\n",
    "frame.plot(TEST_RANGE)\n",
    "bsr = Browser(frame, reference_genome='/private/groups/russelllab/jodie/reference_genomes/micro-c/dmel-all-chromosome_only-r6.46.genome')\n",
    "bsr.goto(TEST_RANGE)\n",
    "bsr.show()\n",
    "\n",
    "bsr.save(f'{directory}/{comparison}_{TEST_RANGE}.svg')\n",
    "print(f\"File saved to: {directory}/{comparison}_{TEST_RANGE}.svg\")\n",
    "os.system(f\"python {gene_data_script} --chrom {chromosome_of_interest} --start {start_bp} --end {end_bp} --output {directory}/{comparison}_{TEST_RANGE}_gene_data.tsv\")\n"
   ]
  },
  {
   "cell_type": "markdown",
   "metadata": {},
   "source": [
    "# Chromosome 2L:6000000-9000000"
   ]
  },
  {
   "cell_type": "code",
   "execution_count": 20,
   "metadata": {},
   "outputs": [
    {
     "name": "stderr",
     "output_type": "stream",
     "text": [
      "[W::hts_idx_load3] The index file is older than the data file: /private/groups/russelllab/jodie/wolbachia_induced_DE/micro-c/mapped/tracks/JW18-DOX_JW18-wMel.diffloop1.bgz.tbi\n",
      "[W::hts_idx_load3] The index file is older than the data file: /private/groups/russelllab/jodie/wolbachia_induced_DE/micro-c/mapped/tracks/JW18-DOX_JW18-wMel.diffloop2.bgz.tbi\n",
      "[W::hts_idx_load3] The index file is older than the data file: /private/groups/russelllab/jodie/wolbachia_induced_DE/micro-c/mapped/tracks/JW18-DOX_JW18-wMel.diffloop1.bgz.tbi\n",
      "[W::hts_idx_load3] The index file is older than the data file: /private/groups/russelllab/jodie/wolbachia_induced_DE/micro-c/mapped/tracks/JW18-DOX_JW18-wMel.diffloop2.bgz.tbi\n"
     ]
    },
    {
     "data": {
      "application/vnd.jupyter.widget-view+json": {
       "model_id": "02a7b894f8004abaa4fd7c840a9a48ac",
       "version_major": 2,
       "version_minor": 0
      },
      "text/plain": [
       "VBox(children=(VBox(children=(HBox(children=(Dropdown(options=('2L', '2R', '3L', '3R', '4', 'X', 'Y'), value='…"
      ]
     },
     "metadata": {},
     "output_type": "display_data"
    },
    {
     "name": "stderr",
     "output_type": "stream",
     "text": [
      "[W::hts_idx_load3] The index file is older than the data file: /private/groups/russelllab/jodie/wolbachia_induced_DE/micro-c/mapped/tracks/JW18-DOX_JW18-wMel.diffloop1.bgz.tbi\n",
      "[W::hts_idx_load3] The index file is older than the data file: /private/groups/russelllab/jodie/wolbachia_induced_DE/micro-c/mapped/tracks/JW18-DOX_JW18-wMel.diffloop2.bgz.tbi\n"
     ]
    },
    {
     "name": "stdout",
     "output_type": "stream",
     "text": [
      "File saved to: /private/groups/russelllab/jodie/wolbachia_induced_DE/micro-c/plots//JW18-DOX_JW18-wMel_2L:6000000-9000000.svg\n",
      "Processing region 2L:6000000-9000000\n",
      "WGCNA file preview:\n",
      "  flybaseCG  module                DE_condition          padj\n",
      "0   CG10007       5  celltypeJW18.infectionwMel  3.116288e-35\n",
      "1   CG10042       5  celltypeJW18.infectionwMel  4.088917e-43\n",
      "2   CG10084       5               wMel_vs_uninf  3.905842e-89\n",
      "3   CG10123       5  celltypeJW18.infectionwMel  5.898989e-45\n",
      "4   CG10144       5  celltypeJW18.infectionwMel  1.955539e-10\n",
      "Loaded 7906 original gene IDs from WGCNA data\n",
      "Loaded WGCNA data with columns: ['flybaseCG', 'module', 'DE_condition', 'padj']\n",
      "Looking for NC_004354.4 in GTF file (mapped from 2L)\n",
      "GTF stats: Found 355 genes on chromosome 2L in the selected region 6000000-9000000\n",
      "Found WGCNA matches for 184 out of 355 genes\n",
      "Saved gene data to /private/groups/russelllab/jodie/wolbachia_induced_DE/micro-c/plots//JW18-DOX_JW18-wMel_2L:6000000-9000000_gene_data.tsv\n",
      "Total genes extracted: 355\n"
     ]
    },
    {
     "data": {
      "text/plain": [
       "0"
      ]
     },
     "execution_count": 20,
     "metadata": {},
     "output_type": "execute_result"
    }
   ],
   "source": [
    "\n",
    "comparison = 'JW18-DOX_JW18-wMel' \n",
    "chromosome_of_interest = \"2L\"\n",
    "start_bp = 6000000\n",
    "end_bp = 9000000\n",
    "TEST_RANGE = f'{chromosome_of_interest}:{start_bp}-{end_bp}'\n",
    "resolution = 1000\n",
    "\n",
    "frame.plot(TEST_RANGE)\n",
    "bsr = Browser(frame, reference_genome='/private/groups/russelllab/jodie/reference_genomes/micro-c/dmel-all-chromosome_only-r6.46.genome')\n",
    "bsr.goto(TEST_RANGE)\n",
    "bsr.show()\n",
    "\n",
    "bsr.save(f'{directory}/{comparison}_{TEST_RANGE}.svg')\n",
    "print(f\"File saved to: {directory}/{comparison}_{TEST_RANGE}.svg\")\n",
    "os.system(f\"python {gene_data_script} --chrom {chromosome_of_interest} --start {start_bp} --end {end_bp} --output {directory}/{comparison}_{TEST_RANGE}_gene_data.tsv\")\n"
   ]
  },
  {
   "cell_type": "markdown",
   "metadata": {},
   "source": [
    "# Chromosome 2L:20Mb-23Mb "
   ]
  },
  {
   "cell_type": "code",
   "execution_count": 21,
   "metadata": {},
   "outputs": [
    {
     "name": "stderr",
     "output_type": "stream",
     "text": [
      "[W::hts_idx_load3] The index file is older than the data file: /private/groups/russelllab/jodie/wolbachia_induced_DE/micro-c/mapped/tracks/JW18-DOX_JW18-wMel.diffloop1.bgz.tbi\n",
      "[W::hts_idx_load3] The index file is older than the data file: /private/groups/russelllab/jodie/wolbachia_induced_DE/micro-c/mapped/tracks/JW18-DOX_JW18-wMel.diffloop2.bgz.tbi\n",
      "[W::hts_idx_load3] The index file is older than the data file: /private/groups/russelllab/jodie/wolbachia_induced_DE/micro-c/mapped/tracks/JW18-DOX_JW18-wMel.diffloop1.bgz.tbi\n",
      "[W::hts_idx_load3] The index file is older than the data file: /private/groups/russelllab/jodie/wolbachia_induced_DE/micro-c/mapped/tracks/JW18-DOX_JW18-wMel.diffloop2.bgz.tbi\n"
     ]
    },
    {
     "data": {
      "application/vnd.jupyter.widget-view+json": {
       "model_id": "e57f5976e87c46b192b88b60ce401013",
       "version_major": 2,
       "version_minor": 0
      },
      "text/plain": [
       "VBox(children=(VBox(children=(HBox(children=(Dropdown(options=('2L', '2R', '3L', '3R', '4', 'X', 'Y'), value='…"
      ]
     },
     "metadata": {},
     "output_type": "display_data"
    },
    {
     "name": "stderr",
     "output_type": "stream",
     "text": [
      "[W::hts_idx_load3] The index file is older than the data file: /private/groups/russelllab/jodie/wolbachia_induced_DE/micro-c/mapped/tracks/JW18-DOX_JW18-wMel.diffloop1.bgz.tbi\n",
      "[W::hts_idx_load3] The index file is older than the data file: /private/groups/russelllab/jodie/wolbachia_induced_DE/micro-c/mapped/tracks/JW18-DOX_JW18-wMel.diffloop2.bgz.tbi\n"
     ]
    },
    {
     "name": "stdout",
     "output_type": "stream",
     "text": [
      "File saved to: /private/groups/russelllab/jodie/wolbachia_induced_DE/micro-c/plots//JW18-DOX_JW18-wMel_2L:18000000-22000000.svg\n",
      "Processing region 2L:18000000-22000000\n",
      "WGCNA file preview:\n",
      "  flybaseCG  module                DE_condition          padj\n",
      "0   CG10007       5  celltypeJW18.infectionwMel  3.116288e-35\n",
      "1   CG10042       5  celltypeJW18.infectionwMel  4.088917e-43\n",
      "2   CG10084       5               wMel_vs_uninf  3.905842e-89\n",
      "3   CG10123       5  celltypeJW18.infectionwMel  5.898989e-45\n",
      "4   CG10144       5  celltypeJW18.infectionwMel  1.955539e-10\n",
      "Loaded 7906 original gene IDs from WGCNA data\n",
      "Loaded WGCNA data with columns: ['flybaseCG', 'module', 'DE_condition', 'padj']\n",
      "Looking for NC_004354.4 in GTF file (mapped from 2L)\n",
      "GTF stats: Found 449 genes on chromosome 2L in the selected region 18000000-22000000\n",
      "Found WGCNA matches for 186 out of 449 genes\n",
      "Saved gene data to /private/groups/russelllab/jodie/wolbachia_induced_DE/micro-c/plots//JW18-DOX_JW18-wMel_2L:18000000-22000000_gene_data.tsv\n",
      "Total genes extracted: 449\n"
     ]
    },
    {
     "data": {
      "text/plain": [
       "0"
      ]
     },
     "execution_count": 21,
     "metadata": {},
     "output_type": "execute_result"
    }
   ],
   "source": [
    "\n",
    "comparison = 'JW18-DOX_JW18-wMel' \n",
    "chromosome_of_interest = \"2L\"\n",
    "start_bp = 18000000\n",
    "end_bp = 22000000\n",
    "TEST_RANGE = f'{chromosome_of_interest}:{start_bp}-{end_bp}'\n",
    "resolution = 1000\n",
    "\n",
    "frame.plot(TEST_RANGE)\n",
    "bsr = Browser(frame, reference_genome='/private/groups/russelllab/jodie/reference_genomes/micro-c/dmel-all-chromosome_only-r6.46.genome')\n",
    "bsr.goto(TEST_RANGE)\n",
    "bsr.show()\n",
    "\n",
    "bsr.save(f'{directory}/{comparison}_{TEST_RANGE}.svg')\n",
    "print(f\"File saved to: {directory}/{comparison}_{TEST_RANGE}.svg\")\n",
    "os.system(f\"python {gene_data_script} --chrom {chromosome_of_interest} --start {start_bp} --end {end_bp} --output {directory}/{comparison}_{TEST_RANGE}_gene_data.tsv\")\n"
   ]
  },
  {
   "cell_type": "markdown",
   "metadata": {},
   "source": [
    "# Chromosome 3L:0-5Mb"
   ]
  },
  {
   "cell_type": "code",
   "execution_count": 22,
   "metadata": {},
   "outputs": [
    {
     "name": "stderr",
     "output_type": "stream",
     "text": [
      "[W::hts_idx_load3] The index file is older than the data file: /private/groups/russelllab/jodie/wolbachia_induced_DE/micro-c/mapped/tracks/JW18-DOX_JW18-wMel.diffloop1.bgz.tbi\n",
      "[W::hts_idx_load3] The index file is older than the data file: /private/groups/russelllab/jodie/wolbachia_induced_DE/micro-c/mapped/tracks/JW18-DOX_JW18-wMel.diffloop2.bgz.tbi\n",
      "[W::hts_idx_load3] The index file is older than the data file: /private/groups/russelllab/jodie/wolbachia_induced_DE/micro-c/mapped/tracks/JW18-DOX_JW18-wMel.diffloop1.bgz.tbi\n",
      "[W::hts_idx_load3] The index file is older than the data file: /private/groups/russelllab/jodie/wolbachia_induced_DE/micro-c/mapped/tracks/JW18-DOX_JW18-wMel.diffloop2.bgz.tbi\n"
     ]
    },
    {
     "data": {
      "application/vnd.jupyter.widget-view+json": {
       "model_id": "6107ca22e9024f39b9b014c68a0af642",
       "version_major": 2,
       "version_minor": 0
      },
      "text/plain": [
       "VBox(children=(VBox(children=(HBox(children=(Dropdown(index=2, options=('2L', '2R', '3L', '3R', '4', 'X', 'Y')…"
      ]
     },
     "metadata": {},
     "output_type": "display_data"
    },
    {
     "name": "stderr",
     "output_type": "stream",
     "text": [
      "[W::hts_idx_load3] The index file is older than the data file: /private/groups/russelllab/jodie/wolbachia_induced_DE/micro-c/mapped/tracks/JW18-DOX_JW18-wMel.diffloop1.bgz.tbi\n",
      "[W::hts_idx_load3] The index file is older than the data file: /private/groups/russelllab/jodie/wolbachia_induced_DE/micro-c/mapped/tracks/JW18-DOX_JW18-wMel.diffloop2.bgz.tbi\n"
     ]
    },
    {
     "name": "stdout",
     "output_type": "stream",
     "text": [
      "File saved to: /private/groups/russelllab/jodie/wolbachia_induced_DE/micro-c/plots//JW18-DOX_JW18-wMel_3L:1-5000000.svg\n",
      "Processing region 3L:1-5000000\n",
      "WGCNA file preview:\n",
      "  flybaseCG  module                DE_condition          padj\n",
      "0   CG10007       5  celltypeJW18.infectionwMel  3.116288e-35\n",
      "1   CG10042       5  celltypeJW18.infectionwMel  4.088917e-43\n",
      "2   CG10084       5               wMel_vs_uninf  3.905842e-89\n",
      "3   CG10123       5  celltypeJW18.infectionwMel  5.898989e-45\n",
      "4   CG10144       5  celltypeJW18.infectionwMel  1.955539e-10\n",
      "Loaded 7906 original gene IDs from WGCNA data\n",
      "Loaded WGCNA data with columns: ['flybaseCG', 'module', 'DE_condition', 'padj']\n",
      "Looking for NC_004356.4 in GTF file (mapped from 3L)\n",
      "GTF stats: Found 0 genes on chromosome 3L in the selected region 1-5000000\n",
      "No genes found in /private/groups/russelllab/jodie/wolbachia_induced_DE/wolbachia_induced_differentiation/scripts/micro-c/WGCNA_bigwig/Dmel6wMel2978.6.clean.gtf for region 3L:1-5000000\n",
      "No data to save - check your GTF file and region specification\n"
     ]
    },
    {
     "data": {
      "text/plain": [
       "0"
      ]
     },
     "execution_count": 22,
     "metadata": {},
     "output_type": "execute_result"
    }
   ],
   "source": [
    "\n",
    "comparison = 'JW18-DOX_JW18-wMel' \n",
    "chromosome_of_interest = \"3L\"\n",
    "start_bp = 1\n",
    "end_bp = 5000000\n",
    "TEST_RANGE = f'{chromosome_of_interest}:{start_bp}-{end_bp}'\n",
    "resolution = 1000\n",
    "\n",
    "frame.plot(TEST_RANGE)\n",
    "bsr = Browser(frame, reference_genome='/private/groups/russelllab/jodie/reference_genomes/micro-c/dmel-all-chromosome_only-r6.46.genome')\n",
    "bsr.goto(TEST_RANGE)\n",
    "bsr.show()\n",
    "\n",
    "bsr.save(f'{directory}/{comparison}_{TEST_RANGE}.svg')\n",
    "print(f\"File saved to: {directory}/{comparison}_{TEST_RANGE}.svg\")\n",
    "os.system(f\"python {gene_data_script} --chrom {chromosome_of_interest} --start {start_bp} --end {end_bp} --output {directory}/{comparison}_{TEST_RANGE}_gene_data.tsv\")"
   ]
  },
  {
   "cell_type": "markdown",
   "metadata": {},
   "source": [
    "# Chromosome 3L: 7-15Mb"
   ]
  },
  {
   "cell_type": "code",
   "execution_count": 23,
   "metadata": {},
   "outputs": [
    {
     "name": "stderr",
     "output_type": "stream",
     "text": [
      "[W::hts_idx_load3] The index file is older than the data file: /private/groups/russelllab/jodie/wolbachia_induced_DE/micro-c/mapped/tracks/JW18-DOX_JW18-wMel.diffloop1.bgz.tbi\n",
      "[W::hts_idx_load3] The index file is older than the data file: /private/groups/russelllab/jodie/wolbachia_induced_DE/micro-c/mapped/tracks/JW18-DOX_JW18-wMel.diffloop2.bgz.tbi\n",
      "[W::hts_idx_load3] The index file is older than the data file: /private/groups/russelllab/jodie/wolbachia_induced_DE/micro-c/mapped/tracks/JW18-DOX_JW18-wMel.diffloop1.bgz.tbi\n",
      "[W::hts_idx_load3] The index file is older than the data file: /private/groups/russelllab/jodie/wolbachia_induced_DE/micro-c/mapped/tracks/JW18-DOX_JW18-wMel.diffloop2.bgz.tbi\n"
     ]
    },
    {
     "data": {
      "application/vnd.jupyter.widget-view+json": {
       "model_id": "f4ca9e006ec24cc3ac89a4a388b82cea",
       "version_major": 2,
       "version_minor": 0
      },
      "text/plain": [
       "VBox(children=(VBox(children=(HBox(children=(Dropdown(index=2, options=('2L', '2R', '3L', '3R', '4', 'X', 'Y')…"
      ]
     },
     "metadata": {},
     "output_type": "display_data"
    },
    {
     "name": "stderr",
     "output_type": "stream",
     "text": [
      "[W::hts_idx_load3] The index file is older than the data file: /private/groups/russelllab/jodie/wolbachia_induced_DE/micro-c/mapped/tracks/JW18-DOX_JW18-wMel.diffloop1.bgz.tbi\n",
      "[W::hts_idx_load3] The index file is older than the data file: /private/groups/russelllab/jodie/wolbachia_induced_DE/micro-c/mapped/tracks/JW18-DOX_JW18-wMel.diffloop2.bgz.tbi\n"
     ]
    },
    {
     "name": "stdout",
     "output_type": "stream",
     "text": [
      "File saved to: /private/groups/russelllab/jodie/wolbachia_induced_DE/micro-c/plots//JW18-DOX_JW18-wMel_3L:7000000-15000000.svg\n",
      "Processing region 3L:7000000-15000000\n",
      "WGCNA file preview:\n",
      "  flybaseCG  module                DE_condition          padj\n",
      "0   CG10007       5  celltypeJW18.infectionwMel  3.116288e-35\n",
      "1   CG10042       5  celltypeJW18.infectionwMel  4.088917e-43\n",
      "2   CG10084       5               wMel_vs_uninf  3.905842e-89\n",
      "3   CG10123       5  celltypeJW18.infectionwMel  5.898989e-45\n",
      "4   CG10144       5  celltypeJW18.infectionwMel  1.955539e-10\n",
      "Loaded 7906 original gene IDs from WGCNA data\n",
      "Loaded WGCNA data with columns: ['flybaseCG', 'module', 'DE_condition', 'padj']\n",
      "Looking for NC_004356.4 in GTF file (mapped from 3L)\n",
      "GTF stats: Found 0 genes on chromosome 3L in the selected region 7000000-15000000\n",
      "No genes found in /private/groups/russelllab/jodie/wolbachia_induced_DE/wolbachia_induced_differentiation/scripts/micro-c/WGCNA_bigwig/Dmel6wMel2978.6.clean.gtf for region 3L:7000000-15000000\n",
      "No data to save - check your GTF file and region specification\n"
     ]
    },
    {
     "data": {
      "text/plain": [
       "0"
      ]
     },
     "execution_count": 23,
     "metadata": {},
     "output_type": "execute_result"
    }
   ],
   "source": [
    "\n",
    "comparison = 'JW18-DOX_JW18-wMel' \n",
    "chromosome_of_interest = \"3L\"\n",
    "start_bp = 7000000\n",
    "end_bp = 15000000\n",
    "TEST_RANGE = f'{chromosome_of_interest}:{start_bp}-{end_bp}'\n",
    "resolution = 1000\n",
    "\n",
    "frame.plot(TEST_RANGE)\n",
    "bsr = Browser(frame, reference_genome='/private/groups/russelllab/jodie/reference_genomes/micro-c/dmel-all-chromosome_only-r6.46.genome')\n",
    "bsr.goto(TEST_RANGE)\n",
    "bsr.show()\n",
    "\n",
    "bsr.save(f'{directory}/{comparison}_{TEST_RANGE}.svg')\n",
    "print(f\"File saved to: {directory}/{comparison}_{TEST_RANGE}.svg\")\n",
    "os.system(f\"python {gene_data_script} --chrom {chromosome_of_interest} --start {start_bp} --end {end_bp} --output {directory}/{comparison}_{TEST_RANGE}_gene_data.tsv\")"
   ]
  },
  {
   "cell_type": "markdown",
   "metadata": {},
   "source": [
    "# Chromosome 3L: 12-22Mb"
   ]
  },
  {
   "cell_type": "code",
   "execution_count": 24,
   "metadata": {},
   "outputs": [
    {
     "name": "stderr",
     "output_type": "stream",
     "text": [
      "[W::hts_idx_load3] The index file is older than the data file: /private/groups/russelllab/jodie/wolbachia_induced_DE/micro-c/mapped/tracks/JW18-DOX_JW18-wMel.diffloop1.bgz.tbi\n",
      "[W::hts_idx_load3] The index file is older than the data file: /private/groups/russelllab/jodie/wolbachia_induced_DE/micro-c/mapped/tracks/JW18-DOX_JW18-wMel.diffloop2.bgz.tbi\n",
      "[W::hts_idx_load3] The index file is older than the data file: /private/groups/russelllab/jodie/wolbachia_induced_DE/micro-c/mapped/tracks/JW18-DOX_JW18-wMel.diffloop1.bgz.tbi\n",
      "[W::hts_idx_load3] The index file is older than the data file: /private/groups/russelllab/jodie/wolbachia_induced_DE/micro-c/mapped/tracks/JW18-DOX_JW18-wMel.diffloop2.bgz.tbi\n"
     ]
    },
    {
     "data": {
      "application/vnd.jupyter.widget-view+json": {
       "model_id": "3e0b49bebd6945468145f0f8003fb591",
       "version_major": 2,
       "version_minor": 0
      },
      "text/plain": [
       "VBox(children=(VBox(children=(HBox(children=(Dropdown(index=2, options=('2L', '2R', '3L', '3R', '4', 'X', 'Y')…"
      ]
     },
     "metadata": {},
     "output_type": "display_data"
    },
    {
     "name": "stderr",
     "output_type": "stream",
     "text": [
      "[W::hts_idx_load3] The index file is older than the data file: /private/groups/russelllab/jodie/wolbachia_induced_DE/micro-c/mapped/tracks/JW18-DOX_JW18-wMel.diffloop1.bgz.tbi\n",
      "[W::hts_idx_load3] The index file is older than the data file: /private/groups/russelllab/jodie/wolbachia_induced_DE/micro-c/mapped/tracks/JW18-DOX_JW18-wMel.diffloop2.bgz.tbi\n"
     ]
    },
    {
     "name": "stdout",
     "output_type": "stream",
     "text": [
      "File saved to: /private/groups/russelllab/jodie/wolbachia_induced_DE/micro-c/plots//JW18-DOX_JW18-wMel_3L:12000000-23000000.svg\n",
      "Processing region 3L:12000000-23000000\n",
      "WGCNA file preview:\n",
      "  flybaseCG  module                DE_condition          padj\n",
      "0   CG10007       5  celltypeJW18.infectionwMel  3.116288e-35\n",
      "1   CG10042       5  celltypeJW18.infectionwMel  4.088917e-43\n",
      "2   CG10084       5               wMel_vs_uninf  3.905842e-89\n",
      "3   CG10123       5  celltypeJW18.infectionwMel  5.898989e-45\n",
      "4   CG10144       5  celltypeJW18.infectionwMel  1.955539e-10\n",
      "Loaded 7906 original gene IDs from WGCNA data\n",
      "Loaded WGCNA data with columns: ['flybaseCG', 'module', 'DE_condition', 'padj']\n",
      "Looking for NC_004356.4 in GTF file (mapped from 3L)\n",
      "GTF stats: Found 0 genes on chromosome 3L in the selected region 12000000-23000000\n",
      "No genes found in /private/groups/russelllab/jodie/wolbachia_induced_DE/wolbachia_induced_differentiation/scripts/micro-c/WGCNA_bigwig/Dmel6wMel2978.6.clean.gtf for region 3L:12000000-23000000\n",
      "No data to save - check your GTF file and region specification\n"
     ]
    },
    {
     "data": {
      "text/plain": [
       "0"
      ]
     },
     "execution_count": 24,
     "metadata": {},
     "output_type": "execute_result"
    }
   ],
   "source": [
    "\n",
    "comparison = 'JW18-DOX_JW18-wMel' \n",
    "chromosome_of_interest = \"3L\"\n",
    "start_bp = 12000000\n",
    "end_bp = 23000000\n",
    "TEST_RANGE = f'{chromosome_of_interest}:{start_bp}-{end_bp}'\n",
    "resolution = 1000\n",
    "\n",
    "frame.plot(TEST_RANGE)\n",
    "bsr = Browser(frame, reference_genome='/private/groups/russelllab/jodie/reference_genomes/micro-c/dmel-all-chromosome_only-r6.46.genome')\n",
    "bsr.goto(TEST_RANGE)\n",
    "bsr.show()\n",
    "\n",
    "bsr.save(f'{directory}/{comparison}_{TEST_RANGE}.svg')\n",
    "print(f\"File saved to: {directory}/{comparison}_{TEST_RANGE}.svg\")\n",
    "os.system(f\"python {gene_data_script} --chrom {chromosome_of_interest} --start {start_bp} --end {end_bp} --output {directory}/{comparison}_{TEST_RANGE}_gene_data.tsv\")"
   ]
  },
  {
   "cell_type": "markdown",
   "metadata": {},
   "source": [
    "# Chromosome 3R:7-15Mb"
   ]
  },
  {
   "cell_type": "code",
   "execution_count": 27,
   "metadata": {},
   "outputs": [
    {
     "name": "stderr",
     "output_type": "stream",
     "text": [
      "[W::hts_idx_load3] The index file is older than the data file: /private/groups/russelllab/jodie/wolbachia_induced_DE/micro-c/mapped/tracks/JW18-DOX_JW18-wMel.diffloop1.bgz.tbi\n",
      "[W::hts_idx_load3] The index file is older than the data file: /private/groups/russelllab/jodie/wolbachia_induced_DE/micro-c/mapped/tracks/JW18-DOX_JW18-wMel.diffloop2.bgz.tbi\n",
      "[W::hts_idx_load3] The index file is older than the data file: /private/groups/russelllab/jodie/wolbachia_induced_DE/micro-c/mapped/tracks/JW18-DOX_JW18-wMel.diffloop1.bgz.tbi\n",
      "[W::hts_idx_load3] The index file is older than the data file: /private/groups/russelllab/jodie/wolbachia_induced_DE/micro-c/mapped/tracks/JW18-DOX_JW18-wMel.diffloop2.bgz.tbi\n"
     ]
    },
    {
     "data": {
      "application/vnd.jupyter.widget-view+json": {
       "model_id": "0520c3ed4b3741d4943fb106a45565a8",
       "version_major": 2,
       "version_minor": 0
      },
      "text/plain": [
       "VBox(children=(VBox(children=(HBox(children=(Dropdown(index=3, options=('2L', '2R', '3L', '3R', '4', 'X', 'Y')…"
      ]
     },
     "metadata": {},
     "output_type": "display_data"
    },
    {
     "name": "stderr",
     "output_type": "stream",
     "text": [
      "[W::hts_idx_load3] The index file is older than the data file: /private/groups/russelllab/jodie/wolbachia_induced_DE/micro-c/mapped/tracks/JW18-DOX_JW18-wMel.diffloop1.bgz.tbi\n",
      "[W::hts_idx_load3] The index file is older than the data file: /private/groups/russelllab/jodie/wolbachia_induced_DE/micro-c/mapped/tracks/JW18-DOX_JW18-wMel.diffloop2.bgz.tbi\n"
     ]
    },
    {
     "name": "stdout",
     "output_type": "stream",
     "text": [
      "File saved to: /private/groups/russelllab/jodie/wolbachia_induced_DE/micro-c/plots//JW18-DOX_JW18-wMel_3R:7000000-15000000.svg\n",
      "Processing region 3R:7000000-15000000\n",
      "WGCNA file preview:\n",
      "  flybaseCG  module                DE_condition          padj\n",
      "0   CG10007       5  celltypeJW18.infectionwMel  3.116288e-35\n",
      "1   CG10042       5  celltypeJW18.infectionwMel  4.088917e-43\n",
      "2   CG10084       5               wMel_vs_uninf  3.905842e-89\n",
      "3   CG10123       5  celltypeJW18.infectionwMel  5.898989e-45\n",
      "4   CG10144       5  celltypeJW18.infectionwMel  1.955539e-10\n",
      "Loaded 7906 original gene IDs from WGCNA data\n",
      "Loaded WGCNA data with columns: ['flybaseCG', 'module', 'DE_condition', 'padj']\n",
      "Looking for NC_004357.4 in GTF file (mapped from 3R)\n",
      "GTF stats: Found 0 genes on chromosome 3R in the selected region 7000000-15000000\n",
      "No genes found in /private/groups/russelllab/jodie/wolbachia_induced_DE/wolbachia_induced_differentiation/scripts/micro-c/WGCNA_bigwig/Dmel6wMel2978.6.clean.gtf for region 3R:7000000-15000000\n",
      "No data to save - check your GTF file and region specification\n"
     ]
    },
    {
     "data": {
      "text/plain": [
       "0"
      ]
     },
     "execution_count": 27,
     "metadata": {},
     "output_type": "execute_result"
    }
   ],
   "source": [
    "\n",
    "comparison = 'JW18-DOX_JW18-wMel' \n",
    "chromosome_of_interest = \"3R\"\n",
    "start_bp = 7000000\n",
    "end_bp = 15000000\n",
    "TEST_RANGE = f'{chromosome_of_interest}:{start_bp}-{end_bp}'\n",
    "resolution = 1000\n",
    "\n",
    "frame.plot(TEST_RANGE)\n",
    "bsr = Browser(frame, reference_genome='/private/groups/russelllab/jodie/reference_genomes/micro-c/dmel-all-chromosome_only-r6.46.genome')\n",
    "bsr.goto(TEST_RANGE)\n",
    "bsr.show()\n",
    "\n",
    "bsr.save(f'{directory}/{comparison}_{TEST_RANGE}.svg')\n",
    "print(f\"File saved to: {directory}/{comparison}_{TEST_RANGE}.svg\")\n",
    "os.system(f\"python {gene_data_script} --chrom {chromosome_of_interest} --start {start_bp} --end {end_bp} --output {directory}/{comparison}_{TEST_RANGE}_gene_data.tsv\")"
   ]
  },
  {
   "cell_type": "code",
   "execution_count": 29,
   "metadata": {},
   "outputs": [
    {
     "name": "stderr",
     "output_type": "stream",
     "text": [
      "[W::hts_idx_load3] The index file is older than the data file: /private/groups/russelllab/jodie/wolbachia_induced_DE/micro-c/mapped/tracks/JW18-DOX_JW18-wMel.diffloop1.bgz.tbi\n",
      "[W::hts_idx_load3] The index file is older than the data file: /private/groups/russelllab/jodie/wolbachia_induced_DE/micro-c/mapped/tracks/JW18-DOX_JW18-wMel.diffloop2.bgz.tbi\n",
      "[W::hts_idx_load3] The index file is older than the data file: /private/groups/russelllab/jodie/wolbachia_induced_DE/micro-c/mapped/tracks/JW18-DOX_JW18-wMel.diffloop1.bgz.tbi\n",
      "[W::hts_idx_load3] The index file is older than the data file: /private/groups/russelllab/jodie/wolbachia_induced_DE/micro-c/mapped/tracks/JW18-DOX_JW18-wMel.diffloop2.bgz.tbi\n"
     ]
    },
    {
     "data": {
      "application/vnd.jupyter.widget-view+json": {
       "model_id": "9f1096d35b9747c9bb033ecc3b841ff8",
       "version_major": 2,
       "version_minor": 0
      },
      "text/plain": [
       "VBox(children=(VBox(children=(HBox(children=(Dropdown(index=3, options=('2L', '2R', '3L', '3R', '4', 'X', 'Y')…"
      ]
     },
     "metadata": {},
     "output_type": "display_data"
    },
    {
     "name": "stderr",
     "output_type": "stream",
     "text": [
      "[W::hts_idx_load3] The index file is older than the data file: /private/groups/russelllab/jodie/wolbachia_induced_DE/micro-c/mapped/tracks/JW18-DOX_JW18-wMel.diffloop1.bgz.tbi\n",
      "[W::hts_idx_load3] The index file is older than the data file: /private/groups/russelllab/jodie/wolbachia_induced_DE/micro-c/mapped/tracks/JW18-DOX_JW18-wMel.diffloop2.bgz.tbi\n"
     ]
    },
    {
     "name": "stdout",
     "output_type": "stream",
     "text": [
      "File saved to: /private/groups/russelllab/jodie/wolbachia_induced_DE/micro-c/plots//JW18-DOX_JW18-wMel_3R:4000000-6000000.svg\n",
      "Processing region 3R:4000000-6000000\n",
      "WGCNA file preview:\n",
      "  flybaseCG  module                DE_condition          padj\n",
      "0   CG10007       5  celltypeJW18.infectionwMel  3.116288e-35\n",
      "1   CG10042       5  celltypeJW18.infectionwMel  4.088917e-43\n",
      "2   CG10084       5               wMel_vs_uninf  3.905842e-89\n",
      "3   CG10123       5  celltypeJW18.infectionwMel  5.898989e-45\n",
      "4   CG10144       5  celltypeJW18.infectionwMel  1.955539e-10\n",
      "Loaded 7906 original gene IDs from WGCNA data\n",
      "Loaded WGCNA data with columns: ['flybaseCG', 'module', 'DE_condition', 'padj']\n",
      "Looking for NC_004357.4 in GTF file (mapped from 3R)\n",
      "GTF stats: Found 0 genes on chromosome 3R in the selected region 4000000-6000000\n",
      "No genes found in /private/groups/russelllab/jodie/wolbachia_induced_DE/wolbachia_induced_differentiation/scripts/micro-c/WGCNA_bigwig/Dmel6wMel2978.6.clean.gtf for region 3R:4000000-6000000\n",
      "No data to save - check your GTF file and region specification\n"
     ]
    },
    {
     "data": {
      "text/plain": [
       "0"
      ]
     },
     "execution_count": 29,
     "metadata": {},
     "output_type": "execute_result"
    }
   ],
   "source": [
    "\n",
    "comparison = 'JW18-DOX_JW18-wMel' \n",
    "chromosome_of_interest = \"3R\"\n",
    "start_bp = 4000000\n",
    "end_bp = 6000000\n",
    "TEST_RANGE = f'{chromosome_of_interest}:{start_bp}-{end_bp}'\n",
    "resolution = 1000\n",
    "\n",
    "frame.plot(TEST_RANGE)\n",
    "bsr = Browser(frame, reference_genome='/private/groups/russelllab/jodie/reference_genomes/micro-c/dmel-all-chromosome_only-r6.46.genome')\n",
    "bsr.goto(TEST_RANGE)\n",
    "bsr.show()\n",
    "\n",
    "bsr.save(f'{directory}/{comparison}_{TEST_RANGE}.svg')\n",
    "print(f\"File saved to: {directory}/{comparison}_{TEST_RANGE}.svg\")\n",
    "os.system(f\"python {gene_data_script} --chrom {chromosome_of_interest} --start {start_bp} --end {end_bp} --output {directory}/{comparison}_{TEST_RANGE}_gene_data.tsv\")"
   ]
  }
 ],
 "metadata": {
  "kernelspec": {
   "display_name": "micro-c",
   "language": "python",
   "name": "python3"
  },
  "language_info": {
   "codemirror_mode": {
    "name": "ipython",
    "version": 3
   },
   "file_extension": ".py",
   "mimetype": "text/x-python",
   "name": "python",
   "nbconvert_exporter": "python",
   "pygments_lexer": "ipython3",
   "version": "3.10.13"
  }
 },
 "nbformat": 4,
 "nbformat_minor": 2
}
